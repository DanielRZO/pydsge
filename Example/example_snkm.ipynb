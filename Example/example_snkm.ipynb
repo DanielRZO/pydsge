{
 "cells": [
  {
   "cell_type": "markdown",
   "source": [
    "# PyDSGE Example - Small New Keynesian Model\n",
    "## Author: Gustavo Amarante\n",
    "This jupyter notebook is an example on how to implement the basic new keynesian model. The details of the model and \n",
    "parameters interpretations can be found in [Galí (2008)](https://www.amazon.com/Monetary-Policy-Inflation-Business-Cycle/dp/0691133166) \n",
    "and a full step-by-step derivation of the model equations is in \n",
    "[Bergholt (2012)](https://bergholt.weebly.com/uploads/1/1/8/4/11843961/the_basic_new_keynesian_model_-_drago_bergholt.pdf).\n",
    "\n",
    "The linearized version of the model is given by the following equations:\n",
    "\n",
    "$\n",
    "\\begin{align*}\n",
    "\\tilde{y}_{t} & =E_{t}\\left(\\tilde{y}_{t+1}\\right)-\\frac{1}{\\sigma}\\left[\\hat{i}_{t}-E_{t}\\left(\\pi_{t+1}\\right)\\right]+\\psi_{ya}^{n}\\left(\\rho_{a}-1\\right)a_{t}\\\\\n",
    "\\pi_{t} & =\\beta E_{t}\\left(\\pi_{t+1}\\right)+\\kappa\\tilde{y}_{t}+\\sigma_{\\pi}\\varepsilon_{t}^{\\pi}\\\\\n",
    "\\hat{i}_{t} & =\\phi_{\\pi}\\pi_{t}+\\phi_{y}\\tilde{y}_{t}+v_{t}\\\\\n",
    "a_{t} & =\\rho_{a}a_{t-1}+\\sigma_{a}\\varepsilon_{t}^{a}\\\\\n",
    "v_{t} & =\\rho_{v}v_{t-1}+\\sigma_{v}\\varepsilon_{t}^{v}\n",
    "\\end{align*}\n",
    "$\n",
    "\n",
    "where the following parameters are given by:\n",
    "\n",
    "$\n",
    "\\psi_{ya}^{n}=\\frac{1+\\varphi}{\\sigma\\left(1-\\alpha\\right)+\\varphi+\\alpha}\\qquad\\kappa=\\frac{\\left(1-\\theta\\right)\\left(1-\\theta\\beta\\right)\\left[\\sigma\\left(1-\\alpha\\right)+\\varphi+\\alpha\\right]}{\\theta\\left(1-\\alpha+\\alpha\\epsilon\\right)}\n",
    "$\n",
    "\n",
    "We also need to write the expectations of time $t+1$ variables as time-$t$ variables. The relationship between variable \n",
    "expectations and the effective value is just the expectational error.\n",
    "\n",
    "$\n",
    "\\begin{align*}\n",
    "\\tilde{y}_{t+1} & =ex_{t}^{y}+\\eta_{t+1}^{y}\\\\\n",
    "\\pi_{t+1} & =ex_{t}^{\\pi}+\\eta_{t+1}^{\\pi}\n",
    "\\end{align*}\n",
    "$\n",
    "\n",
    "where $ex_{t}^{y}=E_{t}\\left(\\tilde{y}_{t+1}\\right)$.\n",
    "\n",
    "So we have 7 endogenous variables, 3 exogenous shocks $\\varepsilon$ and 2 expectational errors $\\eta$ that compose the \n",
    "state equations of the model. We also need to specify the set of observation equations, which we will assume that only \n",
    "the outputgap, inflation and interest rate are observable variables. \n",
    "\n",
    "$\n",
    "\\begin{align*}\n",
    "output\\_gap_{t} & =\\tilde{y}_{t}\\\\\n",
    "inflation_{t} & =\\pi_{t}\\\\\n",
    "interest\\_rate_{t} & =\\left(\\frac{1}{\\beta}-1\\right)+\\hat{i}_{t}\\\\\n",
    "\\end{align*}\n",
    "$\n",
    "\n",
    "These are the sections of the notebook:\n",
    "* Especification\n",
    "* Calibration\n",
    "* Simulation\n",
    "* Estimation\n",
    "* Analysis"
   ],
   "metadata": {
    "collapsed": false
   }
  },
  {
   "cell_type": "markdown",
   "source": [
    "---\n",
    "# Imports\n",
    "Your imports should include `symbols` and `Matrix` from the [`sympy` library](https://www.sympy.org/en/index.html), as \n",
    "these are required for variables and model declaration.\n",
    "\n",
    "(Obs: the need for libraries should be eliminated in future versions) \n",
    " "
   ],
   "metadata": {
    "collapsed": false,
    "pycharm": {
     "name": "#%% md\n"
    }
   }
  },
  {
   "cell_type": "code",
   "execution_count": 1,
   "metadata": {
    "collapsed": true,
    "pycharm": {
     "is_executing": false,
     "name": "#%%\n"
    }
   },
   "outputs": [],
   "source": [
    "import numpy as np\n",
    "from pydsge import DSGE\n",
    "import matplotlib.pyplot as plt\n",
    "from sympy import symbols, Matrix"
   ]
  },
  {
   "cell_type": "markdown",
   "source": [
    "---\n",
    "# Model Especification\n",
    "## Variable Declaration\n",
    "Declare all of the endogenous variables at time-$t$ as symbols and create a `Matrix` object with them."
   ],
   "metadata": {
    "collapsed": false,
    "pycharm": {
     "name": "#%% md\n"
    }
   }
  },
  {
   "cell_type": "code",
   "execution_count": 2,
   "outputs": [],
   "source": [
    "y, pi, i, a, v, exp_y, exp_pi = symbols('y, pi, i, a, v, exp_y, exp_pi')\n",
    "endog = Matrix([y, pi, i, a, v, exp_y, exp_pi])"
   ],
   "metadata": {
    "collapsed": false,
    "pycharm": {
     "name": "#%%\n",
     "is_executing": false
    }
   }
  },
  {
   "cell_type": "markdown",
   "source": [
    "Declare all of the endogenous variables at time-$t-1$ as symbols and create a `Matrix` object with them. The convention \n",
    "in this notebook is to  add an `l` (for \"lagged\") at the end of the variable name."
   ],
   "metadata": {
    "collapsed": false,
    "pycharm": {
     "name": "#%% md\n"
    }
   }
  },
  {
   "cell_type": "code",
   "execution_count": 3,
   "outputs": [],
   "source": [
    "yl, pil, il, al, vl, exp_yl, exp_pil = symbols('yl, pil, il, al, vl, exp_yl, exp_pil')\n",
    "endogl = Matrix([yl, pil, il, al, vl, exp_yl, exp_pil])"
   ],
   "metadata": {
    "collapsed": false,
    "pycharm": {
     "name": "#%% \n",
     "is_executing": false
    }
   }
  },
  {
   "cell_type": "markdown",
   "source": [
    "Declare all of the exogenous shocks $\\varepsilon$ as symbols and create a `Matrix` object with them."
   ],
   "metadata": {
    "collapsed": false
   }
  },
  {
   "cell_type": "code",
   "execution_count": 4,
   "outputs": [],
   "source": [
    "eps_a, eps_v, eps_pi = symbols('eps_a, eps_v, eps_pi')\n",
    "exog = Matrix([eps_a, eps_v, eps_pi])"
   ],
   "metadata": {
    "collapsed": false,
    "pycharm": {
     "name": "#%%\n",
     "is_executing": false
    }
   }
  },
  {
   "cell_type": "markdown",
   "source": [
    "Declare all of the expectational errors $\\eta$ as symbols and create a `Matrix` object with them."
   ],
   "metadata": {
    "collapsed": false
   }
  },
  {
   "cell_type": "code",
   "execution_count": 5,
   "outputs": [],
   "source": [
    "eta_y, eta_pi = symbols('eta_y, eta_pi')\n",
    "expec = Matrix([eta_y, eta_pi])\n"
   ],
   "metadata": {
    "collapsed": false,
    "pycharm": {
     "name": "#%%\n",
     "is_executing": false
    }
   }
  },
  {
   "cell_type": "markdown",
   "source": [
    "Declare all of the parameter as symbols and create a `Matrix` object with them. \n",
    "Summary parameters (functions of other parameters) do not need to be inside the matrix object, they only need to be \n",
    "defined by their formula."
   ],
   "metadata": {
    "collapsed": false
   }
  },
  {
   "cell_type": "code",
   "execution_count": 6,
   "outputs": [],
   "source": [
    "sigma, varphi, alpha, beta, theta, phi_pi, phi_y, rho_a, sigma_a, rho_v, sigma_v, sigma_pi = \\\n",
    "    symbols('sigma, varphi, alpha, beta, theta, phi_pi, phi_y, rho_a, sigma_a, rho_v, sigma_v, sigma_pi')\n",
    "\n",
    "psi_nya = (1 + varphi) / (sigma*(1-alpha) + varphi + alpha)\n",
    "kappa = (1 - theta)*(1 - theta * beta)*(sigma*(1-alpha) + varphi + alpha)"
   ],
   "metadata": {
    "collapsed": false,
    "pycharm": {
     "name": "#%%\n",
     "is_executing": false
    }
   }
  },
  {
   "cell_type": "markdown",
   "source": [
    "## State Equations \n",
    "Given the set of linearized equilibrium conditions described in the beggining of thie notebook, put all of the terms \n",
    "to one side of the equation so that the system of equations is equal to zero. Since all of our variable and parameter \n",
    "names are symbols, the equations will be correctly interpreted as symbolic expressions. These expressions should also \n",
    "go into a `Matrix` object. This set of equations should include only the state equations of the system. "
   ],
   "metadata": {
    "collapsed": false,
    "pycharm": {
     "name": "#%% md\n"
    }
   }
  },
  {
   "cell_type": "code",
   "execution_count": 7,
   "outputs": [],
   "source": [
    "eq1 = y - exp_y + (1/sigma)*(i - exp_pi) - psi_nya * (rho_a - 1) * a\n",
    "eq2 = pi - beta * exp_pi - kappa * y - sigma_pi * eps_pi\n",
    "eq3 = i - phi_pi * pi - phi_y * y - v\n",
    "eq4 = a - rho_a * al - sigma_a * eps_a\n",
    "eq5 = v - rho_v * vl - sigma_v * eps_v\n",
    "eq6 = y - exp_yl - eta_y\n",
    "eq7 = pi - exp_pil - eta_pi\n",
    "\n",
    "equations = Matrix([eq1, eq2, eq3, eq4, eq5, eq6, eq7])"
   ],
   "metadata": {
    "collapsed": false,
    "pycharm": {
     "name": "#%%\n",
     "is_executing": false
    }
   }
  },
  {
   "cell_type": "markdown",
   "source": [
    "## Observation Equations\n",
    "Using the observation equations described in the beggining of thie notebook, the expression for the observable variables\n",
    "(linear function of the state variables) should be on the right side of the equation. These expressions should also go \n",
    "into a `Matrix` object. This set of equations  should include only the observation equations of the system. "
   ],
   "metadata": {
    "collapsed": false,
    "pycharm": {
     "name": "#%% md\n"
    }
   }
  },
  {
   "cell_type": "code",
   "execution_count": 8,
   "outputs": [],
   "source": [
    "obs01 = y\n",
    "obs02 = pi\n",
    "obs03 = 1/beta - 1 + i\n",
    "\n",
    "obs_equations = Matrix([obs01, obs02, obs03])"
   ],
   "metadata": {
    "collapsed": false,
    "pycharm": {
     "name": "#%% \n",
     "is_executing": false
    }
   }
  },
  {
   "cell_type": "markdown",
   "source": [
    "---\n",
    "# Model Calibration\n",
    "Now that we have decribed the full set of equilibrium conditions of the models, we can calibrate the parameters. We will\n",
    "save the simulated data to illuestrate the estimation processo later on. To calibrate a model, all you need is a \n",
    "dictionary where the keys are the parameter symbols (*not* the string with their names) and the values are their \n",
    "respective calibration value."
   ],
   "metadata": {
    "collapsed": false,
    "pycharm": {
     "name": "#%% md\n"
    }
   }
  },
  {
   "cell_type": "code",
   "execution_count": 9,
   "outputs": [],
   "source": [
    "calib_dict = {sigma: 1.3,\n",
    "              varphi: 1,\n",
    "              alpha: 0.4,\n",
    "              beta: 0.997805,\n",
    "              theta: 0.75,\n",
    "              phi_pi: 1.5,\n",
    "              phi_y: 0.2,\n",
    "              rho_a: 0.9,\n",
    "              sigma_a: 1.1,\n",
    "              rho_v: 0.5,\n",
    "              sigma_v: 0.3,\n",
    "              sigma_pi: 0.8}"
   ],
   "metadata": {
    "collapsed": false,
    "pycharm": {
     "name": "#%%\n",
     "is_executing": false
    }
   }
  },
  {
   "cell_type": "markdown",
   "source": [
    "to build the DSGE object we just have to pass the matrix objects that we created and the calibration dictionary."
   ],
   "metadata": {
    "collapsed": false,
    "pycharm": {
     "name": "#%% md\n"
    }
   }
  },
  {
   "cell_type": "code",
   "execution_count": 10,
   "outputs": [],
   "source": [
    "dsge_simul = DSGE(endog=endog, \n",
    "                  endogl=endogl, \n",
    "                  exog=exog, \n",
    "                  expec=expec, \n",
    "                  state_equations=equations,\n",
    "                  obs_equations=obs_equations,\n",
    "                  calib_dict=calib_dict)"
   ],
   "metadata": {
    "collapsed": false,
    "pycharm": {
     "name": "#%%\n",
     "is_executing": false
    }
   }
  },
  {
   "cell_type": "markdown",
   "source": [
    "Since we passed a calibration dictionary, the model already knows that it only has to substitute the calibration values\n",
    "in their respective symbolic representaions and solves the model. Just by writing the statement above, the `dsge_simul`\n",
    "object already computes everything.\n",
    "\n",
    "To check if the calbration values yield a solution or not, the model has the `.eu` attibute, mirrors the definition from\n",
    "the original *Sims (2002)* `gensys.m` function. It represents the existance and uniqueness of the solaution of the model. \n",
    "If the first entry is equal to 1 it means the model has a solution and if the second entry is equal to 1 it means that\n",
    "the solution is unique."
   ],
   "metadata": {
    "collapsed": false,
    "pycharm": {
     "name": "#%% md\n"
    }
   }
  },
  {
   "cell_type": "code",
   "execution_count": 11,
   "outputs": [
    {
     "name": "stdout",
     "text": [
      "[1, 1]\n"
     ],
     "output_type": "stream"
    }
   ],
   "source": [
    "print(dsge_simul.eu)"
   ],
   "metadata": {
    "collapsed": false,
    "pycharm": {
     "name": "#%% \n",
     "is_executing": false
    }
   }
  }
 ],
 "metadata": {
  "kernelspec": {
   "display_name": "Python 3",
   "language": "python",
   "name": "python3"
  },
  "language_info": {
   "codemirror_mode": {
    "name": "ipython",
    "version": 2
   },
   "file_extension": ".py",
   "mimetype": "text/x-python",
   "name": "python",
   "nbconvert_exporter": "python",
   "pygments_lexer": "ipython2",
   "version": "2.7.6"
  },
  "pycharm": {
   "stem_cell": {
    "cell_type": "raw",
    "source": [],
    "metadata": {
     "collapsed": false
    }
   }
  }
 },
 "nbformat": 4,
 "nbformat_minor": 0
}